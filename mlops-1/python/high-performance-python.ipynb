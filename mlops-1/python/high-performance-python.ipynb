{
 "cells": [
  {
   "cell_type": "code",
   "execution_count": 1,
   "id": "a6d50432",
   "metadata": {},
   "outputs": [],
   "source": [
    "import multiprocessing\n",
    "from multiprocessing import Process"
   ]
  },
  {
   "cell_type": "code",
   "execution_count": 3,
   "id": "2819c7c0",
   "metadata": {},
   "outputs": [
    {
     "name": "stdout",
     "output_type": "stream",
     "text": [
      "number of cpu cores:  2\n"
     ]
    }
   ],
   "source": [
    "print(\"number of cpu cores: \", multiprocessing.cpu_count())"
   ]
  },
  {
   "cell_type": "code",
   "execution_count": 4,
   "id": "e6f95a90",
   "metadata": {},
   "outputs": [],
   "source": [
    "import pandas as pd\n",
    "from time import sleep, time\n",
    "\n",
    "def process_dataframe(chunk_id, chunk_data: pd.DataFrame):\n",
    "    print(f\"Processing chunk {chunk_id}...\")\n",
    "    sleep(5)\n",
    "    print(f\"Chunk {chunk_id} has been processed successfully.\")"
   ]
  },
  {
   "cell_type": "code",
   "execution_count": 8,
   "id": "d5133be4",
   "metadata": {},
   "outputs": [
    {
     "name": "stdout",
     "output_type": "stream",
     "text": [
      "processID: 8286\n",
      "Processing chunk 0...processID: 8289\n",
      "\n",
      "\n",
      "Processing chunk 1...processID: 8294\n",
      "processID: 8301\n",
      "Processing chunk 2...\n",
      "Processing chunk 3...\n",
      "Processing chunk 4...\n",
      "processID: 8306\n",
      "Chunk 0 has been processed successfully.\n",
      "Chunk 1 has been processed successfully.\n",
      "Chunk 2 has been processed successfully.Chunk 3 has been processed successfully.\n",
      "\n",
      "Chunk 4 has been processed successfully.\n",
      "total time taken: 5.06 seconds\n"
     ]
    }
   ],
   "source": [
    "data = [\n",
    "    ['tom', 10],\n",
    "    ['nick', 15],\n",
    "    ['john', 20],\n",
    "    ['jane', 25],\n",
    "    ['jill', 30],\n",
    "    ['jack', 35],\n",
    "    ['joseph', 40],\n",
    "    ['james', 45],\n",
    "    ['jerry', 50],\n",
    "    ['jasmine', 55]\n",
    "]\n",
    "\n",
    "df = pd.DataFrame(data, columns=['name', 'age'])\n",
    "\n",
    "chunk_size = 2\n",
    "chunks = [\n",
    "    df[i:i+chunk_size].to_numpy() \n",
    "    for i in range(0, len(df), chunk_size)\n",
    "]\n",
    "\n",
    "start = time()\n",
    "\n",
    "procs = []\n",
    "\n",
    "for i, chunk in enumerate(chunks):\n",
    "    # define our process but not start it yet\n",
    "    proc = Process(target=process_dataframe, args=(i, chunk))\n",
    "\n",
    "    # start the process\n",
    "    proc.start()\n",
    "\n",
    "    # print the process ID\n",
    "    print(f\"processID: {proc.pid}\")\n",
    "\n",
    "    # append the process to the list\n",
    "    procs.append(proc)\n",
    "\n",
    "# wait for all processes to finish\n",
    "for proc in procs:\n",
    "    proc.join()\n",
    "\n",
    "print(f\"total time taken: {time() - start:.2f} seconds\")"
   ]
  },
  {
   "cell_type": "code",
   "execution_count": 10,
   "id": "e23e0630",
   "metadata": {},
   "outputs": [
    {
     "name": "stdout",
     "output_type": "stream",
     "text": [
      "Processing chunk 0...Processing chunk 1...\n",
      "\n"
     ]
    },
    {
     "name": "stdout",
     "output_type": "stream",
     "text": [
      "Chunk 1 has been processed successfully.\n",
      "Chunk 0 has been processed successfully.Processing chunk 2...\n",
      "\n",
      "Processing chunk 3...\n",
      "Chunk 2 has been processed successfully.\n",
      "Processing chunk 4...\n",
      "Chunk 3 has been processed successfully.\n",
      "Chunk 4 has been processed successfully.\n"
     ]
    },
    {
     "name": "stdout",
     "output_type": "stream",
     "text": [
      "Processing chunk 1...Processing chunk 0...\n",
      "\n",
      "Chunk 1 has been processed successfully.Chunk 0 has been processed successfully.\n",
      "\n",
      "\n",
      "Processing chunk 2...Processing chunk 3...\n",
      "Chunk 2 has been processed successfully.\n",
      "Processing chunk 4...\n",
      "Chunk 3 has been processed successfully.\n",
      "Chunk 4 has been processed successfully.\n",
      "Processing chunk 1...Processing chunk 0...\n",
      "\n",
      "Chunk 0 has been processed successfully.Chunk 1 has been processed successfully.\n",
      "\n",
      "Processing chunk 2...Processing chunk 3...\n",
      "\n",
      "Chunk 2 has been processed successfully.\n",
      "Processing chunk 4...Chunk 3 has been processed successfully.\n",
      "\n",
      "Chunk 4 has been processed successfully.\n"
     ]
    }
   ],
   "source": [
    "from multiprocessing import Pool\n",
    "\n",
    "NUM_PROCESSES = 2\n",
    "\n",
    "pool = Pool(processes=NUM_PROCESSES)\n",
    "\n",
    "procs = []\n",
    "\n",
    "for i, chunk in enumerate(chunks):\n",
    "    procs.append(\n",
    "        pool.apply_async(process_dataframe, args=(i, chunk))\n",
    "    )\n",
    "\n",
    "for proc in procs:\n",
    "    proc.get()"
   ]
  },
  {
   "cell_type": "code",
   "execution_count": 12,
   "id": "6c81b971",
   "metadata": {},
   "outputs": [
    {
     "name": "stdout",
     "output_type": "stream",
     "text": [
      "[None, None, None, None, None]\n"
     ]
    }
   ],
   "source": [
    "inputs = [(i, chunk) for i, chunk in enumerate(chunks)]\n",
    "\n",
    "outputs = pool.starmap(process_dataframe, inputs)\n",
    "\n",
    "print(outputs)"
   ]
  }
 ],
 "metadata": {
  "kernelspec": {
   "display_name": "Python 3",
   "language": "python",
   "name": "python3"
  },
  "language_info": {
   "codemirror_mode": {
    "name": "ipython",
    "version": 3
   },
   "file_extension": ".py",
   "mimetype": "text/x-python",
   "name": "python",
   "nbconvert_exporter": "python",
   "pygments_lexer": "ipython3",
   "version": "3.11.11"
  }
 },
 "nbformat": 4,
 "nbformat_minor": 5
}
